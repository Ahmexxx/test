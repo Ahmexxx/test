{
 "cells": [
  {
   "cell_type": "code",
   "execution_count": 6,
   "metadata": {},
   "outputs": [
    {
     "name": "stdout",
     "output_type": "stream",
     "text": [
      "[1, 4, 9, 16, 25, 36, 49, 64, 81, 100]\n"
     ]
    }
   ],
   "source": [
    "risultati=[]#ho creato la oggetto in cui metterò le mie liste\n",
    "#creo la mia lista\n",
    "lista_ah=list(range(1,11,))\n",
    "lista_ah\n",
    "\n",
    "##quadrati \n",
    "for n in lista_ah:\n",
    "    #quadrato=(n**2)\n",
    "    #print(n**2)\n",
    "    risultati.append(n**2)#inserisco nell'oggetto grazie ad append la variabile \n",
    "\n",
    "print(risultati) #stampo l'oggetto"
   ]
  },
  {
   "cell_type": "code",
   "execution_count": 5,
   "metadata": {},
   "outputs": [
    {
     "name": "stdout",
     "output_type": "stream",
     "text": [
      "[1, 4, 9, 16, 25, 36, 49, 64, 81, 100]\n"
     ]
    }
   ],
   "source": [
    "risultati2=[n**2 for n in range(1,11)]\n",
    "print (risultati2)"
   ]
  },
  {
   "cell_type": "code",
   "execution_count": 7,
   "metadata": {},
   "outputs": [
    {
     "name": "stdout",
     "output_type": "stream",
     "text": [
      "[1, 8, 27, 64, 125, 216, 343, 512, 729, 1000]\n"
     ]
    }
   ],
   "source": [
    "risultati3=[n**3 for n in range(1,11)]\n",
    "print(risultati3)"
   ]
  },
  {
   "cell_type": "code",
   "execution_count": 16,
   "metadata": {},
   "outputs": [
    {
     "name": "stdout",
     "output_type": "stream",
     "text": [
      "elementare\n"
     ]
    }
   ],
   "source": [
    "eta=15\n",
    "if eta>5:\n",
    "    print('elementare')\n",
    "elif eta>11:\n",
    "    print('medie')\n",
    "elif  eta>14:\n",
    "    print('superiori')\n",
    "else:\n",
    "    print('asilo')"
   ]
  },
  {
   "cell_type": "code",
   "execution_count": 24,
   "metadata": {},
   "outputs": [
    {
     "name": "stdout",
     "output_type": "stream",
     "text": [
      "ok\n"
     ]
    }
   ],
   "source": [
    "eta=18\n",
    "patente= True\n",
    "if eta>=18 and patente==True:\n",
    "    print('ok')\n",
    "elif eta>=18 and patente==False:\n",
    "    print('non hai la patente')\n",
    "else:\n",
    "    print('non puoi avere la patente')\n"
   ]
  },
  {
   "cell_type": "code",
   "execution_count": 28,
   "metadata": {},
   "outputs": [
    {
     "name": "stdout",
     "output_type": "stream",
     "text": [
      "hai 455\n"
     ]
    }
   ],
   "source": [
    "eta= input('quanti anni hai?')\n",
    "print('hai '+eta)"
   ]
  },
  {
   "cell_type": "code",
   "execution_count": 31,
   "metadata": {},
   "outputs": [
    {
     "name": "stdout",
     "output_type": "stream",
     "text": [
      "non puoi patentarti\n"
     ]
    }
   ],
   "source": [
    "eta= int(input('quanti anni hai?'))\n",
    "if eta>=18:\n",
    "    print('puoi patentarti')\n",
    "else:\n",
    "    print('non puoi patentarti')\n"
   ]
  },
  {
   "cell_type": "code",
   "execution_count": 4,
   "metadata": {},
   "outputs": [
    {
     "name": "stdout",
     "output_type": "stream",
     "text": [
      "ahahhaahah puoi patentarti\n"
     ]
    }
   ],
   "source": [
    "nome=input('come ti chiami?')\n",
    "eta= int(input('quanti anni hai?'))\n",
    "patentato=input()\n",
    "if eta>=18 and patentato=='si':\n",
    "    print(nome +' hai la patente')\n",
    "else:\n",
    "    print(nome +' non puoi patentarti')\n"
   ]
  },
  {
   "cell_type": "code",
   "execution_count": 7,
   "metadata": {},
   "outputs": [
    {
     "name": "stdout",
     "output_type": "stream",
     "text": [
      "il numero inserito è  245\n"
     ]
    }
   ],
   "source": [
    "while True:\n",
    "    numero= int(input('inserisci un numero'))\n",
    "    if numero>=100:\n",
    "        print('il numero inserito è ',numero)\n",
    "        break"
   ]
  },
  {
   "cell_type": "code",
   "execution_count": 3,
   "metadata": {},
   "outputs": [
    {
     "name": "stdout",
     "output_type": "stream",
     "text": [
      "la tua lettera è  o\n"
     ]
    }
   ],
   "source": [
    "while True:\n",
    "    vocali= input('inserisci una vocale')\n",
    "    if vocali in ['a' , 'e' , 'i' , 'o', 'u']:\n",
    "        print ('la tua lettera è ', vocali)\n",
    "        break"
   ]
  },
  {
   "cell_type": "code",
   "execution_count": 5,
   "metadata": {},
   "outputs": [],
   "source": [
    "def prove():\n",
    "    print('ciao')\n",
    "    print('fai')\n",
    "    print('tu')\n",
    "    prove()"
   ]
  },
  {
   "cell_type": "code",
   "execution_count": 14,
   "metadata": {},
   "outputs": [],
   "source": [
    "def somma_numeri(a,b,c):\n",
    "    print('somma di tre numeri:')\n",
    "    risultato = a+b+c\n",
    "    print('il risultato è '+str(risultato))\n"
   ]
  },
  {
   "cell_type": "code",
   "execution_count": null,
   "metadata": {},
   "outputs": [],
   "source": [
    "somma_numeri(1,2,3)"
   ]
  },
  {
   "cell_type": "code",
   "execution_count": 1,
   "metadata": {},
   "outputs": [],
   "source": [
    "import numpy as np\n",
    "import pandas as pd"
   ]
  },
  {
   "cell_type": "code",
   "execution_count": 4,
   "metadata": {},
   "outputs": [],
   "source": [
    "np.random.seed(667)#il seed serve a controllare l'effetto random\n",
    "mydata =np.random.randint(0,101,(4,3))"
   ]
  },
  {
   "cell_type": "code",
   "execution_count": 5,
   "metadata": {},
   "outputs": [
    {
     "data": {
      "text/plain": [
       "array([[ 85,  15,  89],\n",
       "       [100,   3,  90],\n",
       "       [  2,  64,   0],\n",
       "       [ 36,  99,  47]])"
      ]
     },
     "execution_count": 5,
     "metadata": {},
     "output_type": "execute_result"
    }
   ],
   "source": [
    "mydata"
   ]
  },
  {
   "cell_type": "code",
   "execution_count": 6,
   "metadata": {},
   "outputs": [],
   "source": [
    "myindex =['CA','NY','AZ','TX']\n"
   ]
  },
  {
   "cell_type": "code",
   "execution_count": 7,
   "metadata": {},
   "outputs": [],
   "source": [
    "mycolumns=['Jan','Feb','Mar']"
   ]
  },
  {
   "cell_type": "code",
   "execution_count": 9,
   "metadata": {},
   "outputs": [
    {
     "data": {
      "text/html": [
       "<div>\n",
       "<style scoped>\n",
       "    .dataframe tbody tr th:only-of-type {\n",
       "        vertical-align: middle;\n",
       "    }\n",
       "\n",
       "    .dataframe tbody tr th {\n",
       "        vertical-align: top;\n",
       "    }\n",
       "\n",
       "    .dataframe thead th {\n",
       "        text-align: right;\n",
       "    }\n",
       "</style>\n",
       "<table border=\"1\" class=\"dataframe\">\n",
       "  <thead>\n",
       "    <tr style=\"text-align: right;\">\n",
       "      <th></th>\n",
       "      <th>Jan</th>\n",
       "      <th>Feb</th>\n",
       "      <th>Mar</th>\n",
       "    </tr>\n",
       "  </thead>\n",
       "  <tbody>\n",
       "    <tr>\n",
       "      <th>CA</th>\n",
       "      <td>85</td>\n",
       "      <td>15</td>\n",
       "      <td>89</td>\n",
       "    </tr>\n",
       "    <tr>\n",
       "      <th>NY</th>\n",
       "      <td>100</td>\n",
       "      <td>3</td>\n",
       "      <td>90</td>\n",
       "    </tr>\n",
       "    <tr>\n",
       "      <th>AZ</th>\n",
       "      <td>2</td>\n",
       "      <td>64</td>\n",
       "      <td>0</td>\n",
       "    </tr>\n",
       "    <tr>\n",
       "      <th>TX</th>\n",
       "      <td>36</td>\n",
       "      <td>99</td>\n",
       "      <td>47</td>\n",
       "    </tr>\n",
       "  </tbody>\n",
       "</table>\n",
       "</div>"
      ],
      "text/plain": [
       "    Jan  Feb  Mar\n",
       "CA   85   15   89\n",
       "NY  100    3   90\n",
       "AZ    2   64    0\n",
       "TX   36   99   47"
      ]
     },
     "execution_count": 9,
     "metadata": {},
     "output_type": "execute_result"
    }
   ],
   "source": [
    "df= pd.DataFrame(data=mydata,index=myindex,columns=mycolumns)\n",
    "df#data frame"
   ]
  },
  {
   "cell_type": "code",
   "execution_count": null,
   "metadata": {},
   "outputs": [],
   "source": []
  }
 ],
 "metadata": {
  "kernelspec": {
   "display_name": "Python 3",
   "language": "python",
   "name": "python3"
  },
  "language_info": {
   "codemirror_mode": {
    "name": "ipython",
    "version": 3
   },
   "file_extension": ".py",
   "mimetype": "text/x-python",
   "name": "python",
   "nbconvert_exporter": "python",
   "pygments_lexer": "ipython3",
   "version": "3.10.10"
  },
  "orig_nbformat": 4
 },
 "nbformat": 4,
 "nbformat_minor": 2
}
