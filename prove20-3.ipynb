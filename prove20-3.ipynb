{
 "cells": [
  {
   "cell_type": "code",
   "execution_count": 6,
   "metadata": {},
   "outputs": [
    {
     "name": "stdout",
     "output_type": "stream",
     "text": [
      "[1, 4, 9, 16, 25, 36, 49, 64, 81, 100]\n"
     ]
    }
   ],
   "source": [
    "risultati=[]#ho creato la oggetto in cui metterò le mie liste\n",
    "#creo la mia lista\n",
    "lista_ah=list(range(1,11,))\n",
    "lista_ah\n",
    "\n",
    "##quadrati \n",
    "for n in lista_ah:\n",
    "    #quadrato=(n**2)\n",
    "    #print(n**2)\n",
    "    risultati.append(n**2)#inserisco nell'oggetto grazie ad append la variabile \n",
    "\n",
    "print(risultati) #stampo l'oggetto"
   ]
  },
  {
   "cell_type": "code",
   "execution_count": 5,
   "metadata": {},
   "outputs": [
    {
     "name": "stdout",
     "output_type": "stream",
     "text": [
      "[1, 4, 9, 16, 25, 36, 49, 64, 81, 100]\n"
     ]
    }
   ],
   "source": [
    "risultati2=[n**2 for n in range(1,11)]\n",
    "print (risultati2)"
   ]
  },
  {
   "cell_type": "code",
   "execution_count": 7,
   "metadata": {},
   "outputs": [
    {
     "name": "stdout",
     "output_type": "stream",
     "text": [
      "[1, 8, 27, 64, 125, 216, 343, 512, 729, 1000]\n"
     ]
    }
   ],
   "source": [
    "risultati3=[n**3 for n in range(1,11)]\n",
    "print(risultati3)"
   ]
  },
  {
   "cell_type": "code",
   "execution_count": 16,
   "metadata": {},
   "outputs": [
    {
     "name": "stdout",
     "output_type": "stream",
     "text": [
      "elementare\n"
     ]
    }
   ],
   "source": [
    "eta=15\n",
    "if eta>5:\n",
    "    print('elementare')\n",
    "elif eta>11:\n",
    "    print('medie')\n",
    "elif  eta>14:\n",
    "    print('superiori')\n",
    "else:\n",
    "    print('asilo')"
   ]
  },
  {
   "cell_type": "code",
   "execution_count": 24,
   "metadata": {},
   "outputs": [
    {
     "name": "stdout",
     "output_type": "stream",
     "text": [
      "ok\n"
     ]
    }
   ],
   "source": [
    "eta=18\n",
    "patente= True\n",
    "if eta>=18 and patente==True:\n",
    "    print('ok')\n",
    "elif eta>=18 and patente==False:\n",
    "    print('non hai la patente')\n",
    "else:\n",
    "    print('non puoi avere la patente')\n"
   ]
  },
  {
   "cell_type": "code",
   "execution_count": 28,
   "metadata": {},
   "outputs": [
    {
     "name": "stdout",
     "output_type": "stream",
     "text": [
      "hai 455\n"
     ]
    }
   ],
   "source": [
    "eta= input('quanti anni hai?')\n",
    "print('hai '+eta)"
   ]
  },
  {
   "cell_type": "code",
   "execution_count": 31,
   "metadata": {},
   "outputs": [
    {
     "name": "stdout",
     "output_type": "stream",
     "text": [
      "non puoi patentarti\n"
     ]
    }
   ],
   "source": [
    "eta= int(input('quanti anni hai?'))\n",
    "if eta>=18:\n",
    "    print('puoi patentarti')\n",
    "else:\n",
    "    print('non puoi patentarti')\n"
   ]
  },
  {
   "cell_type": "code",
   "execution_count": 1,
   "metadata": {},
   "outputs": [
    {
     "name": "stdout",
     "output_type": "stream",
     "text": [
      "funzione circonferenza e area di un cerchio:\n",
      "la circonferenza del raggio è 75.39822368615503  invece l'area è 452.3893421169302\n",
      "75.39822368615503 452.3893421169302\n"
     ]
    }
   ],
   "source": [
    "\n",
    "import numpy as np\n",
    "def c_a_cerchio(a:int):\n",
    "    '''questa funzione calcola la circonferenza e l'area di un cerchio'''\n",
    "    print('funzione circonferenza e area di un cerchio:')\n",
    "    c_cerchio = 2 * np.pi * a\n",
    "    a_cerchio = (a**2) * np.pi\n",
    "    print('''la circonferenza del raggio è '''+str(c_cerchio),''' invece l'area è '''+str(a_cerchio))\n",
    "    return c_cerchio, a_cerchio\n",
    "\n",
    "x = int(input('inserisci raggio cerchio'))\n",
    "circonferenza , area = c_a_cerchio(x) \n",
    "print(circonferenza, area)"
   ]
  },
  {
   "cell_type": "code",
   "execution_count": null,
   "metadata": {},
   "outputs": [],
   "source": [
    "\n",
    "#ESERCIZIO GEOMETRIA#\n",
    "\n",
    "\n",
    "def p_a_rettangolo(a:int, b:int):\n",
    "    '''questa funzione calcola il perimetro e l'area di un rettangolo'''\n",
    "    print('funzione perimetro e area di un rettangolo:')\n",
    "    p_rettangolo = a + b\n",
    "    a_rettangolo = a * b\n",
    "    print('''il perimetro del rettangolo è '''+str(p_rettangolo),''', invece l'area è '''+str(a_rettangolo))\n",
    "    return p_rettangolo, a_rettangolo\n",
    "\n",
    "x = int(input('inserisci lunghezza lato minore'))\n",
    "y = int(input('inserisci lunghezza lato maggiore'))\n",
    "perimetro_r, area_r = p_a_rettangolo(a,b)\n",
    "print(perimetro_r, area_r)\n",
    "\n",
    "\n"
   ]
  }
 ],
 "metadata": {
  "kernelspec": {
   "display_name": "Python 3",
   "language": "python",
   "name": "python3"
  },
  "language_info": {
   "codemirror_mode": {
    "name": "ipython",
    "version": 3
   },
   "file_extension": ".py",
   "mimetype": "text/x-python",
   "name": "python",
   "nbconvert_exporter": "python",
   "pygments_lexer": "ipython3",
   "version": "3.10.10"
  },
  "orig_nbformat": 4
 },
 "nbformat": 4,
 "nbformat_minor": 2
}
